{
 "cells": [
  {
   "cell_type": "code",
   "execution_count": 1,
   "id": "ade49ca9",
   "metadata": {},
   "outputs": [
    {
     "name": "stderr",
     "output_type": "stream",
     "text": [
      "C:\\Users\\Caleb\\AppData\\Local\\Temp\\ipykernel_9476\\4143967996.py:4: UserWarning: \n",
      "The dash_html_components package is deprecated. Please replace\n",
      "`import dash_html_components as html` with `from dash import html`\n",
      "  import dash_html_components as html\n",
      "C:\\Users\\Caleb\\AppData\\Local\\Temp\\ipykernel_9476\\4143967996.py:5: UserWarning: \n",
      "The dash_core_components package is deprecated. Please replace\n",
      "`import dash_core_components as dcc` with `from dash import dcc`\n",
      "  import dash_core_components as dcc\n"
     ]
    }
   ],
   "source": [
    "# Import required libraries\n",
    "import pandas as pd\n",
    "import dash\n",
    "import dash_html_components as html\n",
    "import dash_core_components as dcc\n",
    "from dash.dependencies import Input, Output\n",
    "import plotly.express as px\n"
   ]
  },
  {
   "cell_type": "code",
   "execution_count": 2,
   "id": "bcaad355",
   "metadata": {},
   "outputs": [],
   "source": [
    "# Read the airline data into pandas dataframe\n",
    "spacex_df = pd.read_csv(\"spacex_launch_dash.csv\")\n",
    "max_payload = spacex_df['Payload Mass (kg)'].max()\n",
    "min_payload = spacex_df['Payload Mass (kg)'].min()\n",
    "\n",
    "\n",
    "\n",
    "\n"
   ]
  },
  {
   "cell_type": "code",
   "execution_count": null,
   "id": "2af05a5f",
   "metadata": {},
   "outputs": [
    {
     "name": "stdout",
     "output_type": "stream",
     "text": [
      "Dash is running on http://127.0.0.1:8050/\n",
      "\n",
      " * Serving Flask app \"__main__\" (lazy loading)\n",
      " * Environment: production\n",
      "\u001b[31m   WARNING: This is a development server. Do not use it in a production deployment.\u001b[0m\n",
      "\u001b[2m   Use a production WSGI server instead.\u001b[0m\n",
      " * Debug mode: off\n"
     ]
    },
    {
     "name": "stderr",
     "output_type": "stream",
     "text": [
      " * Running on http://127.0.0.1:8050/ (Press CTRL+C to quit)\n",
      "127.0.0.1 - - [16/Jan/2023 22:58:22] \"GET / HTTP/1.1\" 200 -\n",
      "127.0.0.1 - - [16/Jan/2023 22:58:22] \"GET /_dash-layout HTTP/1.1\" 200 -\n",
      "127.0.0.1 - - [16/Jan/2023 22:58:22] \"GET /_dash-dependencies HTTP/1.1\" 200 -\n",
      "127.0.0.1 - - [16/Jan/2023 22:58:22] \"GET /_dash-component-suites/dash/dcc/async-dropdown.js HTTP/1.1\" 200 -\n",
      "127.0.0.1 - - [16/Jan/2023 22:58:22] \"GET /_dash-component-suites/dash/dcc/async-graph.js HTTP/1.1\" 200 -\n",
      "127.0.0.1 - - [16/Jan/2023 22:58:22] \"GET /_dash-component-suites/dash/dcc/async-slider.js HTTP/1.1\" 200 -\n",
      "127.0.0.1 - - [16/Jan/2023 22:58:22] \"GET /_dash-component-suites/dash/dcc/async-plotlyjs.js HTTP/1.1\" 200 -\n",
      "127.0.0.1 - - [16/Jan/2023 22:58:23] \"POST /_dash-update-component HTTP/1.1\" 200 -\n",
      "127.0.0.1 - - [16/Jan/2023 22:58:23] \"POST /_dash-update-component HTTP/1.1\" 200 -\n",
      "127.0.0.1 - - [16/Jan/2023 22:58:27] \"POST /_dash-update-component HTTP/1.1\" 200 -\n"
     ]
    }
   ],
   "source": [
    "app = dash.Dash()\n",
    "\n",
    "\n",
    "\n",
    "app.layout = html.Div( children=[html.H1('SpaceX Launch Records Dashboard',\n",
    "                                        style={'textAlign': 'center', 'color': '#503D36',\n",
    "                                               'font-size': 40}\n",
    "                                        ),\n",
    "                        dcc.Dropdown(id='site_dropdown',options=[\n",
    "                                                         {'label': 'ALL SITES', 'value': 'ALL'},\n",
    "                                                         {'label': 'CCAFS LC-40', 'value': 'CCAFS LC-40'},\n",
    "                                                         {'label': 'VAFB SLC-4E', 'value': 'VAFB SLC-4E'},\n",
    "                                                         {'label': 'KSC LC-39A', 'value': 'KSC LC-39A'},\n",
    "                                                         {'label': 'CCAFS SLC-40', 'value': 'CCAFS SLC-40'}\n",
    "                                                                ],placeholder='Select a Launch Site here', \n",
    "                                                                 searchable = True , value = 'ALL'),\n",
    "                                html.Br(),\n",
    "                                 \n",
    "                                # TASK 2: Add a pie chart to show the total successful launches count for all sites\n",
    "                                # If a specific launch site was selected, show the Success vs. Failed counts for the site\n",
    "                                html.Div(dcc.Graph(id='success-pie-chart')),\n",
    "                                html.Br(),\n",
    "\n",
    "                                html.P(\"Payload range (Kg):\"),\n",
    "                                # TASK 3: Add a slider to select payload range\n",
    "                                dcc.RangeSlider(id='payload-slider', min=0,max=10000,step=1000,\n",
    "                                                value=[min_payload,max_payload],\n",
    "                                                marks={0: '0', 1000:'10000', 2000:'2000',\n",
    "                                                3000:'3000',4000:'4000',5000:'5000',6000:'6000',\n",
    "                                                7000:'7000',8000:'8000',9000:'9000', 10000: '10000'}),\n",
    "\n",
    "                                # TASK 4: Add a scatter chart to show the correlation between payload and launch success\n",
    "                                html.Div(dcc.Graph(id='success-payload-scatter-chart')),            \n",
    "                                ])\n",
    "\n",
    "\n",
    "\n",
    "@app.callback(\n",
    "     Output(component_id='success-pie-chart',component_property='figure'),\n",
    "     Input(component_id='site_dropdown',component_property='value'))\n",
    "\n",
    "def pie_chart(site_dropdown):\n",
    "    if (site_dropdown == 'ALL'):\n",
    "        df  = spacex_df[spacex_df['class'] == 1]\n",
    "        fig = px.pie(df, names = 'Launch Site',title = 'Total Success Launches By All Sites')\n",
    "        \n",
    "    else:\n",
    "        df  = spacex_df.loc[spacex_df['Launch Site'] == site_dropdown]\n",
    "        fig = px.pie(df, names = 'class',title = 'Total Success Launches By Site ' + site_dropdown)\n",
    "    return fig\n",
    "\n",
    "\n",
    "\n",
    "\n",
    "@app.callback(\n",
    "    Output(component_id='success-payload-scatter-chart', component_property='figure'),\n",
    "    [Input(component_id='site_dropdown', component_property='value'),\n",
    "    Input(component_id='payload-slider', component_property='value')])\n",
    "\n",
    "\n",
    "def scatter_chart(site_dropdown, payload_slider):\n",
    "    if site_dropdown == 'ALL':\n",
    "        df = spacex_df[(spacex_df['Payload Mass (kg)']>=payload_slider[0]) & (spacex_df['Payload Mass (kg)']<=payload_slider[1])]\n",
    "        fig = px.scatter(data_frame=df, x=\"Payload Mass (kg)\", y=\"class\", \n",
    "        color=\"Booster Version Category\")\n",
    "        \n",
    "    \n",
    "    else:\n",
    "        df_=spacex_df.loc[spacex_df['Launch Site'] == site_dropdown]\n",
    "        df = df_[(df_['Payload Mass (kg)']>=payload_slider[0]) & (spacex_df['Payload Mass (kg)']<=payload_slider[1])]\n",
    "        fig = px.scatter(data_frame=df, x=\"Payload Mass (kg)\", y=\"class\", \n",
    "        color=\"Booster Version Category\")\n",
    "    return fig\n",
    "\n",
    "# Run the app\n",
    "if __name__ == '__main__':\n",
    "    app.run_server()"
   ]
  },
  {
   "cell_type": "code",
   "execution_count": null,
   "id": "b35508d2",
   "metadata": {},
   "outputs": [],
   "source": [
    "spacex_df.columns\n",
    "\n"
   ]
  },
  {
   "cell_type": "code",
   "execution_count": null,
   "id": "45142e03",
   "metadata": {},
   "outputs": [],
   "source": []
  },
  {
   "cell_type": "code",
   "execution_count": null,
   "id": "2e52be97",
   "metadata": {},
   "outputs": [],
   "source": []
  },
  {
   "cell_type": "code",
   "execution_count": null,
   "id": "93d1062f",
   "metadata": {},
   "outputs": [],
   "source": []
  }
 ],
 "metadata": {
  "kernelspec": {
   "display_name": "Python 3 (ipykernel)",
   "language": "python",
   "name": "python3"
  },
  "language_info": {
   "codemirror_mode": {
    "name": "ipython",
    "version": 3
   },
   "file_extension": ".py",
   "mimetype": "text/x-python",
   "name": "python",
   "nbconvert_exporter": "python",
   "pygments_lexer": "ipython3",
   "version": "3.9.12"
  }
 },
 "nbformat": 4,
 "nbformat_minor": 5
}
